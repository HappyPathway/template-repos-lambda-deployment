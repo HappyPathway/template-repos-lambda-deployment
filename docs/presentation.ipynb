{
 "cells": [
  {
   "cell_type": "markdown",
   "id": "b1837916",
   "metadata": {},
   "source": [
    "# Template-Repos Lambda Deployment\n",
    "## 10-Minute Project Overview\n",
    "### May 16, 2025"
   ]
  },
  {
   "cell_type": "markdown",
   "id": "912a0046",
   "metadata": {},
   "source": [
    "## Project Purpose\n",
    "\n",
    "This project automates the deployment of AWS Lambda functions from template repositories. It provides:\n",
    "\n",
    "* Standardized infrastructure-as-code for Lambda deployments\n",
    "* Integration with GitHub repositories on github.e.it.census.gov\n",
    "* AWS resources management and configuration"
   ]
  },
  {
   "cell_type": "markdown",
   "id": "b0d0ee5e",
   "metadata": {},
   "source": [
    "## Architecture Overview\n",
    "\n",
    "```\n",
    "┌─────────────────────┐      ┌────────────────────┐      ┌────────────────────┐\n",
    "│                     │      │                    │      │                    │\n",
    "│  Template Repos     │──────▶  Lambda Function   │──────▶  AWS Resources    │\n",
    "│  (GitHub)           │      │  Deployment        │      │                   │\n",
    "│                     │      │                    │      │                   │\n",
    "└─────────────────────┘      └────────────────────┘      └────────────────────┘\n",
    "```"
   ]
  },
  {
   "cell_type": "markdown",
   "id": "9d180601",
   "metadata": {},
   "source": [
    "## Key Components\n",
    "\n",
    "1. **template-repos-lambda-deployment** (This repo)\n",
    "   * Main deployment infrastructure\n",
    "   * URL: https://github.e.it.census.gov/SCT-Engineering/template-repos-lambda-deployment\n",
    "\n",
    "2. **template-automation-lambda** \n",
    "   * Contains Lambda function code\n",
    "   * URL: https://github.e.it.census.gov/SCT-Engineering/template-automation-lambda\n",
    "\n",
    "3. **terraform-aws-template-automation**\n",
    "   * Terraform modules for the automation\n",
    "   * URL: https://github.e.it.census.gov/SCT-Engineering/terraform-aws-template-automation\n",
    "\n",
    "4. **template-eks-cluster**\n",
    "   * Optional integration for EKS workloads\n",
    "   * URL: https://github.e.it.census.gov/SCT-Engineering/template-eks-cluster"
   ]
  },
  {
   "cell_type": "markdown",
   "id": "56c7eff9",
   "metadata": {},
   "source": [
    "## Core Terraform Files\n",
    "\n",
    "* **main.tf**: Defines primary resources and Lambda configuration\n",
    "* **image-import.tf**: Handles container image imports \n",
    "* **variables.tf**: Configurable parameters\n",
    "* **outputs.tf**: Resource identifiers and endpoints\n",
    "* **providers.tf**: AWS provider configuration"
   ]
  },
  {
   "cell_type": "code",
   "execution_count": null,
   "id": "3ea326e9",
   "metadata": {},
   "outputs": [],
   "source": [
    "# Example: How to list the main Terraform files\n",
    "import os\n",
    "import glob\n",
    "\n",
    "# Path would refer to the project root\n",
    "project_path = \"/home/a/arnol377/git/template-repos-lambda-deployment\"\n",
    "tf_files = glob.glob(os.path.join(project_path, \"*.tf\"))\n",
    "\n",
    "print(\"Terraform files in the project:\")\n",
    "for file in sorted(tf_files):\n",
    "    print(f\"- {os.path.basename(file)}\")"
   ]
  },
  {
   "cell_type": "markdown",
   "id": "5a0e1901",
   "metadata": {},
   "source": [
    "## AWS Resources Created\n",
    "\n",
    "* **Lambda Functions**: Main automation workload\n",
    "  * AWS Console: https://console.amazonaws-us-gov.com/lambda/home?region=us-gov-west-1#/functions\n",
    "  \n",
    "* **IAM Roles**: Permissions for Lambda execution\n",
    "  * AWS Console: https://console.amazonaws-us-gov.com/iamv2/home?region=us-gov-west-1#/roles\n",
    "  \n",
    "* **ECR Repository**: Docker image storage\n",
    "  * AWS Console: https://console.amazonaws-us-gov.com/ecr/home?region=us-gov-west-1#/repositories\n",
    "  \n",
    "* **CloudWatch Logs**: Lambda function logs\n",
    "  * AWS Console: https://console.amazonaws-us-gov.com/cloudwatch/home?region=us-gov-west-1#logsV2:log-groups"
   ]
  },
  {
   "cell_type": "markdown",
   "id": "77fc99e4",
   "metadata": {},
   "source": [
    "## Deployment Workflow\n",
    "\n",
    "1. Terraform initialization (`tf init`)\n",
    "2. Plan changes (`tf plan`)\n",
    "3. Apply infrastructure (`tf apply`)\n",
    "4. Verify Lambda deployment in AWS console\n",
    "\n",
    "```mermaid\n",
    "graph LR\n",
    "    A[Code Changes] --> B[tf init]\n",
    "    B --> C[tf plan]\n",
    "    C --> D[tf apply]\n",
    "    D --> E[Verify in AWS Console]\n",
    "```"
   ]
  },
  {
   "cell_type": "code",
   "execution_count": null,
   "id": "aaa68900",
   "metadata": {
    "vscode": {
     "languageId": "bash"
    }
   },
   "outputs": [],
   "source": [
    "# Example terraform commands that would be run\n",
    "# (Not executed - for demonstration only)\n",
    "\n",
    "# cd /home/a/arnol377/git/template-repos-lambda-deployment\n",
    "# tf init\n",
    "# tf plan -out=tf.plan\n",
    "# tf apply tf.plan"
   ]
  },
  {
   "cell_type": "markdown",
   "id": "037913f4",
   "metadata": {},
   "source": [
    "## Lambda Function Implementation\n",
    "\n",
    "The automation Lambda (from template-automation-lambda) handles:\n",
    "\n",
    "* GitHub repository interaction via PyGithub\n",
    "* AWS resource provisioning\n",
    "* Event-driven workflows\n",
    "\n",
    "Key file: `/home/a/arnol377/git/template-automation-lambda/app.py`"
   ]
  },
  {
   "cell_type": "markdown",
   "id": "bd09a712",
   "metadata": {},
   "source": [
    "## Configuration Management\n",
    "\n",
    "* **Variable files**: `/varfiles/default.tfvars`\n",
    "* **State management**: Remote state in S3 (defined in `backend.tf`)\n",
    "* **Lambda payload**: Configuration in `lambda-payload.json`"
   ]
  },
  {
   "cell_type": "markdown",
   "id": "e79eb8a5",
   "metadata": {},
   "source": [
    "## Monitoring & Troubleshooting\n",
    "\n",
    "* **CloudWatch Logs**: View Lambda function logs\n",
    "  * URL: https://console.amazonaws-us-gov.com/cloudwatch/home?region=us-gov-west-1#logsV2:log-groups\n",
    "  \n",
    "* **Terraform State**: Examine with `tf state list`\n",
    "\n",
    "* **Local logs**: Check `/logs/main.txt` for deployment logs"
   ]
  },
  {
   "cell_type": "markdown",
   "id": "2d7a5469",
   "metadata": {},
   "source": [
    "## Questions?\n",
    "\n",
    "For more information:\n",
    "* Project README files\n",
    "* Internal documentation at github.e.it.census.gov/SCT-Engineering\n",
    "* AWS Console resources"
   ]
  }
 ],
 "metadata": {
  "language_info": {
   "name": "python"
  }
 },
 "nbformat": 4,
 "nbformat_minor": 5
}
